{
 "cells": [
  {
   "cell_type": "markdown",
   "metadata": {},
   "source": [
    "# Gaugefileds.jl で Polyakov ループの計算をしてみる\n",
    "\n",
    "## SU(N) 格子ゲージ理論\n",
    "\n",
    "### プラケットゲージ作用\n",
    "\n",
    "$S_{SU(N)} = \\beta\\sum_n\\sum_{\\mu\\ne\\nu}\\frac{1}{2N}\\mathrm{tr}\\left[1-P_{\\mu\\nu}(n)\\right],$\n",
    "\n",
    "$\\beta \\equiv 2N/g^2$ : 格子ゲージ結合定数,\n",
    "\n",
    "$U_{n,\\mu} \\in$ SU(N) : リンク変数,\n",
    "\n",
    "$P_{\\mu\\nu}(n) \\equiv U_\\mu(n)U_\\nu(n+\\hat{\\mu})U_\\mu^\\dagger(n+\\hat{\\nu})U_\\nu^\\dagger(n)$ : プラケット.\n",
    "\n",
    "## Polyakov ループ\n",
    "\n",
    "$\\Phi(\\vec{n}) \\equiv \\mathrm{tr}\\prod_{n_4=1}^{N_\\tau}U_4(\\vec{n},n_4)$\n",
    "\n",
    "## 数値計算アルゴリズム\n",
    "\n",
    "### 擬熱浴法\n",
    "\n",
    "## 数値計算コード\n",
    "\n",
    "### Gaugefeilds.jl\n",
    "\n",
    "* ウェブサイト: https://github.com/akio-tomiya/Gaugefields.jl\n",
    "\n",
    "---\n",
    "\n",
    "## 数値計算の実例\n",
    "\n",
    "### ライブラリのインストール"
   ]
  },
  {
   "cell_type": "code",
   "execution_count": null,
   "metadata": {},
   "outputs": [],
   "source": [
    "using Pkg\n",
    "\n",
    "Pkg.add(\"Gaugefields\")\n",
    "Pkg.add(\"Plots\")"
   ]
  },
  {
   "cell_type": "markdown",
   "metadata": {},
   "source": [
    "### ライブラリの読み込み"
   ]
  },
  {
   "cell_type": "code",
   "execution_count": 2,
   "metadata": {},
   "outputs": [],
   "source": [
    "using Gaugefields # 格子ゲージ理論計算のライブラリ\n",
    "using Plots       # 描画ライブラリ\n",
    "using Random      # 乱数ライブラリ\n",
    "using Statistics  # 統計計算ライブラリ"
   ]
  },
  {
   "cell_type": "markdown",
   "metadata": {},
   "source": [
    "### 定数の定義\n",
    "デフォルトのセットアップは計算時間が短くなるよう、体積やサンプリング間隔が小さめ。\n",
    "\n",
    "色々変えて結果がどう変わるか確認してみよう。"
   ]
  },
  {
   "cell_type": "code",
   "execution_count": null,
   "metadata": {},
   "outputs": [],
   "source": [
    "const nwing = 1      # Gaugefields.jl 特有のパラメータ\n",
    "const seed = 1234567 # 乱数の種\n",
    "\n",
    "const nc = 3                      # color の数\n",
    "const lattice_size = [8, 8, 8, 4] # 格子サイズ (x, y, z, t)\n",
    "\n",
    "const ntherm = 100                                         # 熱平衡状態までの配位の更新回数 (最終的な計算から除外)\n",
    "const nsweeps_per_sample = 30                              # 次の配位をサンプルするまでの更新回数\n",
    "const nsamples = 100                                       # 配位のサンプル数\n",
    "const nsweep_all = ntherm + nsweeps_per_sample * nsamples  # 総更新回数\n",
    "\n",
    "const betas = [5.00, 5.25, 5.50, 5.60, 5.65, 5.70, 5.75, 5.80, 5.85, 5.90, 5.95, 6.00]; # 結合定数\n",
    "\n",
    "const plt1 = plot(\n",
    "    xlims = (0, 1.35*nsweep_all),\n",
    "    xlabel=\"MC steps\",\n",
    "    ylabel=\"|Φ|\",\n",
    "    legend=:topright)\n",
    "\n",
    "const plt2 = plot(\n",
    "        xlims = (-1, 1),\n",
    "        ylims = (-1, 1),\n",
    "        xlabel=\"Re Φ\",\n",
    "        ylabel=\"Im Φ\",\n",
    "        legend=:topright)"
   ]
  },
  {
   "cell_type": "markdown",
   "metadata": {},
   "source": [
    "### ゲージ配位の更新と Polyakove ループの計算"
   ]
  },
  {
   "cell_type": "code",
   "execution_count": null,
   "metadata": {},
   "outputs": [],
   "source": [
    "function update!(U, beta)\n",
    "\n",
    "    temp = Array{typeof(U[1]),1}(undef, 3) # 作業用変数\n",
    "    for i = 1:3\n",
    "        temp[i] = similar(U[1])\n",
    "    end\n",
    "\n",
    "    polys = ComplexF64[]    # Polyakov ループ保存用変数\n",
    "\n",
    "    # ゲージ配位の更新\n",
    "    for _ = 1:nsweep_all\n",
    "\n",
    "        heatbath!(U, temp, beta) # 擬熱浴法\n",
    "        poly = calculate_Polyakov_loop(U, temp[1], temp[2]) # Polyakov ループの計算\n",
    "        push!(polys, poly)\n",
    "\n",
    "    end\n",
    "\n",
    "    # Polyakov ループ履歴をファイルに書き出し\n",
    "    #=\n",
    "    open(\"poly_beta$beta.txt\", \"w\") do f\n",
    "        for i = 1:nsweep_all\n",
    "            println(f, polys[i])\n",
    "        end\n",
    "    end\n",
    "    =#\n",
    "\n",
    "    # Polyakov ループ履歴をグラフに出力\n",
    "    abs_polys = abs.(polys)\n",
    "    display(plot!(\n",
    "        plt1,\n",
    "        abs_polys,\n",
    "        label=\"β = $beta\"))\n",
    "    sleep(0.1)\n",
    "\n",
    "    polys_used = @view polys[ntherm:nsweeps_per_sample:end] # 計算に用いる分のデータを抽出\n",
    "\n",
    "    # Polyakov ループの分布をグラフに出力\n",
    "    display(plot!(\n",
    "        plt2,\n",
    "        real.(polys_used),\n",
    "        imag.(polys_used),\n",
    "        seriestype=:scatter,\n",
    "        label=\"β = $beta\"))\n",
    "    sleep(0.1)\n",
    "\n",
    "    polys_used = @view abs_polys[ntherm:nsweeps_per_sample:end] # 計算に用いる分のデータを抽出\n",
    "    poly_ave = mean(polys_used)                                 # Polyakov ループ期待値の計算\n",
    "    poly_err = sqrt(varm(polys_used, poly_ave) / nsamples)      # Polyakov ループの統計誤差の計算\n",
    "\n",
    "    return poly_ave, poly_err\n",
    "\n",
    "end"
   ]
  },
  {
   "cell_type": "markdown",
   "metadata": {},
   "source": [
    "### シミュレーションの実行"
   ]
  },
  {
   "cell_type": "code",
   "execution_count": null,
   "metadata": {},
   "outputs": [],
   "source": [
    "function run()\n",
    "\n",
    "    # 乱数の種の設定\n",
    "    Random.seed!(seed)\n",
    "\n",
    "    # ゲージ配位の初期化\n",
    "    U = Initialize_Gaugefields(nc, nwing, lattice_size..., condition=\"hot\")\n",
    "\n",
    "    poly_aves = Float64[]\n",
    "    poly_errs = Float64[]\n",
    "\n",
    "    # シミュレーションを実行\n",
    "    for beta in betas\n",
    "\n",
    "        poly_ave, poly_err = update!(U, beta)\n",
    "        push!(poly_aves, poly_ave)\n",
    "        push!(poly_errs, poly_err)\n",
    "\n",
    "    end\n",
    "\n",
    "    # Polyakov ループの結果をファイルに書き出し\n",
    "    #=\n",
    "    open(\"poly.txt\", \"w\") do f\n",
    "\n",
    "        println(f, \"# beta  poly  error\")\n",
    "\n",
    "        for i in eachindex(betas)\n",
    "\n",
    "            println(f, \"$(betas[i]) $(poly_aves[i]) $(poly_errs[i])\")\n",
    "\n",
    "        end\n",
    "\n",
    "    end\n",
    "    =#\n",
    "\n",
    "    # Polyakov ループの結果をグラフに出力\n",
    "    display(plot(\n",
    "        betas,\n",
    "        poly_aves,\n",
    "        yerror=poly_errs,\n",
    "        seriestype=:scatter,\n",
    "        markercolor=:black,\n",
    "        markershape=:circle,\n",
    "        label=\"Heatbath\",\n",
    "        xlabel=\"β\",\n",
    "        ylabel=\"<|Φ|>\",\n",
    "        legend=:topleft))\n",
    "\n",
    "end"
   ]
  },
  {
   "cell_type": "code",
   "execution_count": null,
   "metadata": {},
   "outputs": [],
   "source": [
    "run()"
   ]
  }
 ],
 "metadata": {
  "kernelspec": {
   "display_name": "Julia 1.10.5",
   "language": "julia",
   "name": "julia-1.10"
  },
  "language_info": {
   "file_extension": ".jl",
   "mimetype": "application/julia",
   "name": "julia",
   "version": "1.10.5"
  }
 },
 "nbformat": 4,
 "nbformat_minor": 2
}
